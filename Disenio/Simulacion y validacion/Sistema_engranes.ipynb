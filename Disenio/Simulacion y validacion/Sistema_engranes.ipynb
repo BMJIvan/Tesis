{
 "cells": [
  {
   "cell_type": "code",
   "execution_count": 1,
   "metadata": {},
   "outputs": [],
   "source": [
    "class engrane:\n",
    "    def __init__(self, compuesto: bool, Numero_dientes: float):\n",
    "        self.union_con: engrane = []\n",
    "        self.union_anterior: engrane\n",
    "        self.numero_uniones: int = 0\n",
    "        self.relacion_engrane: float = 0\n",
    "        self.relacion_engrane_cuadrado: float = 0\n",
    "        self.nombre: int = 0\n",
    "        self.Numero_dientes = Numero_dientes\n",
    "        self.J: float = 0\n",
    "        self.D: float = 0\n",
    "        self.compuesto = compuesto\n",
    "        \n",
    "    def calcular_relacion_engrane(self):\n",
    "        if self.union_anterior.nombre != 0:\n",
    "            if self.compuesto:\n",
    "                self.relacion_engrane_cuadrado = self.union_anterior.relacion_engrane_cuadrado\n",
    "            else:\n",
    "                self.relacion_engrane_cuadrado = (self.Numero_dientes/self.union_anterior.Numero_dientes) ** 2\n",
    "        else:\n",
    "            self.relacion_engrane_cuadrado = 1\n",
    "        for engrane_en in self.union_con:\n",
    "            engrane_en.calcular_relacion_engrane()\n",
    "        "
   ]
  },
  {
   "cell_type": "code",
   "execution_count": 2,
   "metadata": {},
   "outputs": [],
   "source": [
    "class Sistema:\n",
    "    def __init__(self):\n",
    "        self.nombre: int = 0\n",
    "        self.numero_engranes: int = 0\n",
    "        self.engranes: list = {}\n",
    "        self.engranes[self.nombre] = engrane(compuesto = False, Numero_dientes = 0)\n",
    "        self.Je: float = 0\n",
    "        self.De: float = 0\n",
    "    \n",
    "    def agregar_engrane(self, nombre: int, compuesto: bool, Numero_dientes: float):\n",
    "        self.nombre += 1\n",
    "        self.numero_engranes += 1\n",
    "        self.engranes[self.nombre] = engrane(compuesto, Numero_dientes)\n",
    "        self.engranes[self.nombre].union_anterior = self.engranes[nombre]\n",
    "        self.engranes[self.nombre].nombre = self.nombre\n",
    "        self.engranes[nombre].union_con.append(self.engranes[self.nombre])\n",
    "\n",
    "    def parametros(self, nombre: int, J: float, D: float):\n",
    "        self.engranes[nombre].J = J\n",
    "        self.engranes[nombre].D = D\n",
    "\n",
    "    def calcular_parametro_equivalentes(self):\n",
    "        self.Je = 0\n",
    "        self.De = 0\n",
    "        for e in self.engranes.values():\n",
    "            relacion_engranes_cuadrado = e.relacion_engrane_cuadrado\n",
    "            self.Je += e.J * relacion_engranes_cuadrado\n",
    "            self.De += e.D * relacion_engranes_cuadrado\n",
    "\n",
    "    def aplicar_modelo_computacional(self):\n",
    "        print(\"aplicar modelo computacional\")\n",
    "        "
   ]
  },
  {
   "cell_type": "code",
   "execution_count": 3,
   "metadata": {},
   "outputs": [],
   "source": [
    "Sis = Sistema()\n",
    "Sis.agregar_engrane(nombre = 0, compuesto = False, Numero_dientes = 20)\n",
    "Sis.agregar_engrane(nombre = 1, compuesto = False, Numero_dientes = 55)\n",
    "Sis.agregar_engrane(nombre = 2, compuesto = True, Numero_dientes = 30)\n",
    "Sis.agregar_engrane(nombre = 3, compuesto = False, Numero_dientes = 100)\n"
   ]
  },
  {
   "cell_type": "code",
   "execution_count": 4,
   "metadata": {},
   "outputs": [],
   "source": [
    "Sis.engranes[1].calcular_relacion_engrane()"
   ]
  },
  {
   "cell_type": "code",
   "execution_count": 5,
   "metadata": {},
   "outputs": [
    {
     "name": "stdout",
     "output_type": "stream",
     "text": [
      "0\n",
      "1\n",
      "7.5625\n",
      "7.5625\n",
      "11.111111111111112\n"
     ]
    }
   ],
   "source": [
    "for e in Sis.engranes.values():\n",
    "    print(e.relacion_engrane_cuadrado)"
   ]
  },
  {
   "cell_type": "code",
   "execution_count": 6,
   "metadata": {},
   "outputs": [],
   "source": [
    "Sis.parametros(1, J = 1 * 10 ** -3, D = 1 * 10 ** -4)\n",
    "Sis.parametros(2, J = 2 * 10 ** -3, D = 2 * 10 ** -4)\n",
    "Sis.parametros(3, J = 2 * 10 ** -3, D = 2 * 10 ** -4)\n",
    "Sis.parametros(4, J = 3 * 10 ** -3, D = 3 * 10 ** -4)"
   ]
  },
  {
   "cell_type": "code",
   "execution_count": 7,
   "metadata": {},
   "outputs": [
    {
     "name": "stdout",
     "output_type": "stream",
     "text": [
      "0.006458333333333334\n",
      "0.06458333333333334\n"
     ]
    }
   ],
   "source": [
    "Sis.calcular_parametro_equivalentes()\n",
    "print(Sis.De)\n",
    "print(Sis.Je)"
   ]
  },
  {
   "cell_type": "code",
   "execution_count": 73,
   "metadata": {},
   "outputs": [
    {
     "name": "stdout",
     "output_type": "stream",
     "text": [
      "aplicar modelo computacional\n"
     ]
    }
   ],
   "source": [
    "Sis.aplicar_modelo_computacional()"
   ]
  },
  {
   "cell_type": "code",
   "execution_count": null,
   "metadata": {},
   "outputs": [],
   "source": []
  }
 ],
 "metadata": {
  "interpreter": {
   "hash": "9e80d76ea6f7910366ea144e4925c6ce12227515ad9ee1266cb0780bd8ad6c40"
  },
  "kernelspec": {
   "display_name": "Python 3.7.8rc1 64-bit",
   "language": "python",
   "name": "python3"
  },
  "language_info": {
   "codemirror_mode": {
    "name": "ipython",
    "version": 3
   },
   "file_extension": ".py",
   "mimetype": "text/x-python",
   "name": "python",
   "nbconvert_exporter": "python",
   "pygments_lexer": "ipython3",
   "version": "3.7.8"
  },
  "orig_nbformat": 4
 },
 "nbformat": 4,
 "nbformat_minor": 2
}
