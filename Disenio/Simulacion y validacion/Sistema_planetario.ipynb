{
 "cells": [
  {
   "cell_type": "code",
   "execution_count": 1,
   "metadata": {},
   "outputs": [],
   "source": [
    "import enum\n",
    "dt = 4380"
   ]
  },
  {
   "cell_type": "code",
   "execution_count": 2,
   "metadata": {},
   "outputs": [],
   "source": [
    "class Parametro(enum.Enum):\n",
    "    posicion_x = enum.auto()\n",
    "    posicion_y = enum.auto()\n",
    "    direccion = enum.auto()\n",
    "    velocidad_x = enum.auto()\n",
    "    velocidad_y = enum.auto()\n",
    "    masa = enum.auto()\n",
    "    estrella = enum.auto()"
   ]
  },
  {
   "cell_type": "code",
   "execution_count": 3,
   "metadata": {},
   "outputs": [],
   "source": [
    "class Objeto:\n",
    "    def __init__(self, estrella):\n",
    "        self.posicion_x: float = 0\n",
    "        self.posicion_y: float = 0\n",
    "        self.velocidad_x: float = 0\n",
    "        self.velocidad_y: float = 0\n",
    "        self.masa: float = 0\n",
    "        self.direccioin: float = 0\n",
    "        self.estrella = estrella\n",
    "    \n",
    "    def variar_parametro(self, parametro: Parametro, valor: float):\n",
    "        if parametro == Parametro.masa:\n",
    "            self.masa = valor\n",
    "        if parametro == Parametro.velocidad_y:\n",
    "            self.velocidad_y = valor\n",
    "        if parametro == Parametro.posicion_x:\n",
    "            self.posicion_x = valor"
   ]
  },
  {
   "cell_type": "code",
   "execution_count": 4,
   "metadata": {},
   "outputs": [],
   "source": [
    "class Sistema:  \n",
    "    def __init__(self):\n",
    "        self.objetos: list = []\n",
    "        self.Gm: list = []\n",
    "        self.estrella: list = []\n",
    "        self.numero_objetos: int = 0\n",
    "        self.aceleracion_x: list = []\n",
    "        self.aceleracion_y: list = []\n",
    "\n",
    "    def Numero_objetos(self): \n",
    "        self.numero_objetos = len(self.objetos)\n",
    "\n",
    "    def agregar_objeto(self, objeto: Objeto):\n",
    "        self.objetos.append(objeto)\n",
    "        self.Gm.append(objeto.masa * 6.672 * 10 ** -11)\n",
    "        self.estrella.append(objeto.estrella)\n",
    "        self.aceleracion_x.append(0)\n",
    "        self.aceleracion_y.append(0)\n",
    "        self.Numero_objetos()\n",
    "\n",
    "    def Reiniciar_aceleracion(self):\n",
    "        for i, _ in enumerate(self.objetos):\n",
    "            self.aceleracion_x[i] = 0\n",
    "            self.aceleracion_y[i] = 0"
   ]
  },
  {
   "cell_type": "code",
   "execution_count": 5,
   "metadata": {},
   "outputs": [],
   "source": [
    "masa_sol = 1988500 * 10 ** 24\n",
    "masa_tierra = 5.97 * 10 ** 24\n",
    "velocidad_tierra = 29800\n",
    "distancia_tierra = 149.6 * 10 ** 9"
   ]
  },
  {
   "cell_type": "code",
   "execution_count": 134,
   "metadata": {},
   "outputs": [],
   "source": [
    "p1 = Objeto(estrella = False)\n",
    "p1.variar_parametro(Parametro.velocidad_y, velocidad_tierra)\n",
    "p1.variar_parametro(Parametro.masa, masa_tierra)\n",
    "p1.variar_parametro(Parametro.posicion_x, distancia_tierra)\n",
    "\n",
    "p2 = Objeto(estrella = False)\n",
    "p2.variar_parametro(Parametro.velocidad_y, .75*velocidad_tierra)\n",
    "p2.variar_parametro(Parametro.masa, 1.5*masa_tierra)\n",
    "p2.variar_parametro(Parametro.posicion_x, 1.5*distancia_tierra)\n",
    "\n",
    "p3 = Objeto(estrella = True)\n",
    "p3.variar_parametro(Parametro.masa, masa_sol)\n",
    "\n",
    "p4 = Objeto(estrella = True)\n",
    "p4.variar_parametro(Parametro.masa, 1*masa_sol)\n",
    "p4.variar_parametro(Parametro.posicion_x, 5*distancia_tierra)\n",
    "p4.variar_parametro(Parametro.velocidad_y, 0.1*velocidad_tierra)\n",
    "\n",
    "Sis = Sistema()"
   ]
  },
  {
   "cell_type": "code",
   "execution_count": 135,
   "metadata": {},
   "outputs": [],
   "source": [
    "Sis.agregar_objeto(p1)\n",
    "Sis.agregar_objeto(p2)\n",
    "Sis.agregar_objeto(p3)\n",
    "Sis.agregar_objeto(p4)"
   ]
  },
  {
   "cell_type": "code",
   "execution_count": 136,
   "metadata": {},
   "outputs": [
    {
     "data": {
      "text/plain": [
       "0"
      ]
     },
     "execution_count": 136,
     "metadata": {},
     "output_type": "execute_result"
    }
   ],
   "source": [
    "Sis.objetos[3].posicion_y"
   ]
  },
  {
   "cell_type": "code",
   "execution_count": 137,
   "metadata": {},
   "outputs": [
    {
     "name": "stdout",
     "output_type": "stream",
     "text": [
      "4\n"
     ]
    }
   ],
   "source": [
    "n = Sis.numero_objetos\n",
    "print(n)"
   ]
  },
  {
   "cell_type": "code",
   "execution_count": 138,
   "metadata": {},
   "outputs": [],
   "source": [
    "REE = True\n",
    "REP = True\n",
    "MCeE = False"
   ]
  },
  {
   "cell_type": "code",
   "execution_count": 139,
   "metadata": {},
   "outputs": [],
   "source": [
    "def calcular_aceleracion(i, j):\n",
    "    xi, yi = Sis.objetos[i].posicion_x, Sis.objetos[i].posicion_y\n",
    "    xj, yj = Sis.objetos[j].posicion_x, Sis.objetos[j].posicion_y\n",
    "    \n",
    "    x = xj - xi\n",
    "    y = yj - yi\n",
    "\n",
    "    distancia_cuadrado = x ** 2 + y ** 2\n",
    "    distancia = distancia_cuadrado ** 0.5\n",
    "    distancia_cubo = distancia_cuadrado * distancia\n",
    "\n",
    "    aceleracion = Sis.Gm[j]/distancia_cubo\n",
    "    aceleracion_x = aceleracion * x\n",
    "    aceleracion_y = aceleracion * y\n",
    "    \n",
    "    Sis.aceleracion_x[i] += aceleracion_x\n",
    "    Sis.aceleracion_y[i] += aceleracion_y\n",
    "\n",
    "    if (not Sis.estrella[i] and Sis.estrella[j] and not MCeE):\n",
    "        return\n",
    "    else:\n",
    "        Sis.aceleracion_x[j] -= x * Sis.Gm[i]/distancia_cubo \n",
    "        Sis.aceleracion_y[j] -= y * Sis.Gm[i]/distancia_cubo        \n"
   ]
  },
  {
   "cell_type": "code",
   "execution_count": 140,
   "metadata": {},
   "outputs": [],
   "source": [
    "def aplicar_modelo_computacional(i):\n",
    "    Sis.objetos[i].posicion_x += Sis.objetos[i].velocidad_x *dt\n",
    "    Sis.objetos[i].velocidad_x += Sis.aceleracion_x[i] *dt\n",
    "    Sis.objetos[i].posicion_y += Sis.objetos[i].velocidad_y *dt\n",
    "    Sis.objetos[i].velocidad_y += Sis.aceleracion_y[i] *dt"
   ]
  },
  {
   "cell_type": "code",
   "execution_count": 141,
   "metadata": {},
   "outputs": [
    {
     "data": {
      "text/plain": [
       "0"
      ]
     },
     "execution_count": 141,
     "metadata": {},
     "output_type": "execute_result"
    }
   ],
   "source": [
    "Sis.objetos[3].velocidad_x"
   ]
  },
  {
   "cell_type": "code",
   "execution_count": 142,
   "metadata": {},
   "outputs": [],
   "source": [
    "p1x = []\n",
    "p1y = []\n",
    "\n",
    "p2x = []\n",
    "p2y = []\n",
    "\n",
    "p3x = []\n",
    "p3y = []\n",
    "\n",
    "p4x = []\n",
    "p4y = []\n",
    "\n",
    "for _ in range (7200):\n",
    "    for i in range(0, n):\n",
    "        if(Sis.estrella[i]): #si es estrella\n",
    "            if(MCeE):\n",
    "                for j in range(i+1, n):\n",
    "                    if(not (not REE and Sis.estrella[j])):\n",
    "                        calcular_aceleracion(i, j)\n",
    "            else:\n",
    "                continue\n",
    "        else: #si es planeta\n",
    "            for j in range(i+1, n):\n",
    "                if(REP or Sis.estrella[j]):\n",
    "                    calcular_aceleracion(i, j)\n",
    "        aplicar_modelo_computacional(i)\n",
    "    Sis.Reiniciar_aceleracion()\n",
    "    \n",
    "    p1x.append(Sis.objetos[0].posicion_x)\n",
    "    p1y.append(Sis.objetos[0].posicion_y)\n",
    "    p2x.append(Sis.objetos[1].posicion_x)\n",
    "    p2y.append(Sis.objetos[1].posicion_y)\n",
    "    p3x.append(Sis.objetos[2].posicion_x)\n",
    "    p3y.append(Sis.objetos[2].posicion_y)\n",
    "    p4x.append(Sis.objetos[3].posicion_x)\n",
    "    p4y.append(Sis.objetos[3].posicion_y)"
   ]
  },
  {
   "cell_type": "code",
   "execution_count": 143,
   "metadata": {},
   "outputs": [],
   "source": [
    "import matplotlib.pyplot as plt\n",
    "import math"
   ]
  },
  {
   "cell_type": "code",
   "execution_count": 144,
   "metadata": {},
   "outputs": [
    {
     "data": {
      "text/plain": [
       "<function matplotlib.pyplot.show(close=None, block=None)>"
      ]
     },
     "execution_count": 144,
     "metadata": {},
     "output_type": "execute_result"
    },
    {
     "data": {
      "image/png": "[encoded data removed]",
      "text/plain": [
       "<Figure size 432x288 with 1 Axes>"
      ]
     },
     "metadata": {
      "needs_background": "light"
     },
     "output_type": "display_data"
    }
   ],
   "source": [
    "plt.plot(p1x, p1y)\n",
    "plt.plot(p2x, p2y)\n",
    "plt.plot(p3x, p3y)\n",
    "plt.plot(p4x, p4y)\n",
    "plt.show"
   ]
  },
  {
   "cell_type": "code",
   "execution_count": 111,
   "metadata": {},
   "outputs": [
    {
     "data": {
      "image/png": "[encoded data removed]",
      "text/plain": [
       "<Figure size 432x288 with 1 Axes>"
      ]
     },
     "metadata": {
      "needs_background": "light"
     },
     "output_type": "display_data"
    }
   ],
   "source": [
    "plt.plot(p4x, p4y)\n",
    "plt.show()"
   ]
  },
  {
   "cell_type": "code",
   "execution_count": null,
   "metadata": {},
   "outputs": [],
   "source": []
  }
 ],
 "metadata": {
  "interpreter": {
   "hash": "9e80d76ea6f7910366ea144e4925c6ce12227515ad9ee1266cb0780bd8ad6c40"
  },
  "kernelspec": {
   "display_name": "Python 3.7.8 64-bit",
   "name": "python3"
  },
  "language_info": {
   "codemirror_mode": {
    "name": "ipython",
    "version": 3
   },
   "file_extension": ".py",
   "mimetype": "text/x-python",
   "name": "python",
   "nbconvert_exporter": "python",
   "pygments_lexer": "ipython3",
   "version": "3.7.8"
  },
  "orig_nbformat": 4
 },
 "nbformat": 4,
 "nbformat_minor": 2
}
